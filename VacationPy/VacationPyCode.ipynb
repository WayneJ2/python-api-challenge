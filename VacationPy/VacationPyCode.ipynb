{
 "cells": [
  {
   "cell_type": "code",
   "execution_count": 1,
   "id": "02ee49af",
   "metadata": {},
   "outputs": [],
   "source": [
    "# Dependencies and Setup\n",
    "import matplotlib.pyplot as plt\n",
    "import pandas as pd\n",
    "import numpy as np\n",
    "import requests\n",
    "import gmaps\n",
    "import os\n",
    "\n",
    "# Import API key\n",
    "from config import g_key"
   ]
  },
  {
   "cell_type": "code",
   "execution_count": 2,
   "id": "389598e7",
   "metadata": {},
   "outputs": [],
   "source": [
    "gmaps.configure(api_key=g_key)\n"
   ]
  },
  {
   "cell_type": "code",
   "execution_count": 3,
   "id": "8442bce6",
   "metadata": {},
   "outputs": [
    {
     "data": {
      "application/vnd.jupyter.widget-view+json": {
       "model_id": "19bb04a8f13a43ec9153438daed07060",
       "version_major": 2,
       "version_minor": 0
      },
      "text/plain": [
       "Figure(layout=FigureLayout(height='420px'))"
      ]
     },
     "metadata": {},
     "output_type": "display_data"
    }
   ],
   "source": [
    "fig = gmaps.figure()\n",
    "fig"
   ]
  },
  {
   "cell_type": "code",
   "execution_count": 5,
   "id": "25c990c2",
   "metadata": {},
   "outputs": [],
   "source": [
    "cleanCity_df = pd.read_csv(\"../WeatherPy/city_weather.csv\")"
   ]
  },
  {
   "cell_type": "code",
   "execution_count": 11,
   "id": "7d5e24f9",
   "metadata": {},
   "outputs": [
    {
     "data": {
      "text/html": [
       "<div>\n",
       "<style scoped>\n",
       "    .dataframe tbody tr th:only-of-type {\n",
       "        vertical-align: middle;\n",
       "    }\n",
       "\n",
       "    .dataframe tbody tr th {\n",
       "        vertical-align: top;\n",
       "    }\n",
       "\n",
       "    .dataframe thead th {\n",
       "        text-align: right;\n",
       "    }\n",
       "</style>\n",
       "<table border=\"1\" class=\"dataframe\">\n",
       "  <thead>\n",
       "    <tr style=\"text-align: right;\">\n",
       "      <th></th>\n",
       "      <th>index</th>\n",
       "      <th>City</th>\n",
       "      <th>Lat</th>\n",
       "      <th>Lng</th>\n",
       "      <th>Max Temp</th>\n",
       "      <th>Humidity</th>\n",
       "      <th>Cloudiness</th>\n",
       "      <th>Wind Speed</th>\n",
       "      <th>Country</th>\n",
       "      <th>Date</th>\n",
       "    </tr>\n",
       "  </thead>\n",
       "  <tbody>\n",
       "    <tr>\n",
       "      <th>0</th>\n",
       "      <td>0</td>\n",
       "      <td>vaini</td>\n",
       "      <td>-21.2000</td>\n",
       "      <td>-175.2000</td>\n",
       "      <td>75.36</td>\n",
       "      <td>69</td>\n",
       "      <td>20</td>\n",
       "      <td>12.66</td>\n",
       "      <td>TO</td>\n",
       "      <td>1627954382</td>\n",
       "    </tr>\n",
       "    <tr>\n",
       "      <th>1</th>\n",
       "      <td>1</td>\n",
       "      <td>ahuimanu</td>\n",
       "      <td>21.4447</td>\n",
       "      <td>-157.8378</td>\n",
       "      <td>87.51</td>\n",
       "      <td>56</td>\n",
       "      <td>1</td>\n",
       "      <td>14.97</td>\n",
       "      <td>US</td>\n",
       "      <td>1627954518</td>\n",
       "    </tr>\n",
       "    <tr>\n",
       "      <th>2</th>\n",
       "      <td>3</td>\n",
       "      <td>anadyr</td>\n",
       "      <td>64.7500</td>\n",
       "      <td>177.4833</td>\n",
       "      <td>50.50</td>\n",
       "      <td>81</td>\n",
       "      <td>90</td>\n",
       "      <td>17.00</td>\n",
       "      <td>RU</td>\n",
       "      <td>1627954386</td>\n",
       "    </tr>\n",
       "    <tr>\n",
       "      <th>3</th>\n",
       "      <td>5</td>\n",
       "      <td>arraial do cabo</td>\n",
       "      <td>-22.9661</td>\n",
       "      <td>-42.0278</td>\n",
       "      <td>67.48</td>\n",
       "      <td>82</td>\n",
       "      <td>2</td>\n",
       "      <td>17.81</td>\n",
       "      <td>BR</td>\n",
       "      <td>1627954383</td>\n",
       "    </tr>\n",
       "    <tr>\n",
       "      <th>4</th>\n",
       "      <td>6</td>\n",
       "      <td>aguadulce</td>\n",
       "      <td>8.2500</td>\n",
       "      <td>-80.5500</td>\n",
       "      <td>78.13</td>\n",
       "      <td>86</td>\n",
       "      <td>100</td>\n",
       "      <td>4.85</td>\n",
       "      <td>PA</td>\n",
       "      <td>1627954525</td>\n",
       "    </tr>\n",
       "  </tbody>\n",
       "</table>\n",
       "</div>"
      ],
      "text/plain": [
       "   index             City      Lat       Lng  Max Temp  Humidity  Cloudiness  \\\n",
       "0      0            vaini -21.2000 -175.2000     75.36        69          20   \n",
       "1      1         ahuimanu  21.4447 -157.8378     87.51        56           1   \n",
       "2      3           anadyr  64.7500  177.4833     50.50        81          90   \n",
       "3      5  arraial do cabo -22.9661  -42.0278     67.48        82           2   \n",
       "4      6        aguadulce   8.2500  -80.5500     78.13        86         100   \n",
       "\n",
       "   Wind Speed Country        Date  \n",
       "0       12.66      TO  1627954382  \n",
       "1       14.97      US  1627954518  \n",
       "2       17.00      RU  1627954386  \n",
       "3       17.81      BR  1627954383  \n",
       "4        4.85      PA  1627954525  "
      ]
     },
     "execution_count": 11,
     "metadata": {},
     "output_type": "execute_result"
    }
   ],
   "source": [
    "cleanCity_df.head()"
   ]
  },
  {
   "cell_type": "code",
   "execution_count": 17,
   "id": "74cc282a",
   "metadata": {},
   "outputs": [
    {
     "data": {
      "application/vnd.jupyter.widget-view+json": {
       "model_id": "34bb390420c044bc8b429431aa1ff2f7",
       "version_major": 2,
       "version_minor": 0
      },
      "text/plain": [
       "Figure(layout=FigureLayout(height='420px'))"
      ]
     },
     "metadata": {},
     "output_type": "display_data"
    }
   ],
   "source": [
    "locations = cleanCity_df[[\"Lat\",\"Lng\"]]\n",
    "humidity = cleanCity_df[\"Humidity\"].astype(float)\n",
    "fig = gmaps.figure()\n",
    "\n",
    "heat_layer = gmaps.heatmap_layer(locations, weights=humidity, dissipating=False, max_intensity=10, point_radius=1)\n",
    "fig.add_layer(heat_layer)\n",
    "fig"
   ]
  },
  {
   "cell_type": "code",
   "execution_count": null,
   "id": "8c6b8288",
   "metadata": {},
   "outputs": [],
   "source": []
  }
 ],
 "metadata": {
  "kernelspec": {
   "display_name": "Python 3",
   "language": "python",
   "name": "python3"
  },
  "language_info": {
   "codemirror_mode": {
    "name": "ipython",
    "version": 3
   },
   "file_extension": ".py",
   "mimetype": "text/x-python",
   "name": "python",
   "nbconvert_exporter": "python",
   "pygments_lexer": "ipython3",
   "version": "3.8.8"
  }
 },
 "nbformat": 4,
 "nbformat_minor": 5
}
