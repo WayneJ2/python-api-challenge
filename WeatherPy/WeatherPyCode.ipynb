{
 "cells": [
  {
   "cell_type": "markdown",
   "id": "dd8a48b7",
   "metadata": {},
   "source": [
    "# WeatherPy"
   ]
  },
  {
   "cell_type": "code",
   "execution_count": 4,
   "id": "bb3a5ce5",
   "metadata": {},
   "outputs": [],
   "source": [
    "# Dependencies and Setup\n",
    "import matplotlib.pyplot as plt\n",
    "import pandas as pd\n",
    "import numpy as np\n",
    "import requests\n",
    "import time\n",
    "import json\n",
    "from scipy.stats import linregress\n",
    "\n",
    "# Import API key\n",
    "from config import weather_api_key\n",
    "\n",
    "# Incorporated citipy to determine city based on latitude and longitude\n",
    "from citipy import citipy\n",
    "\n",
    "# Output File (CSV)\n",
    "output_data_file = \"output_data/cities.csv\"\n",
    "\n",
    "# Range of latitudes and longitudes\n",
    "lat_range = (-90, 90)\n",
    "lng_range = (-180, 180)"
   ]
  },
  {
   "cell_type": "code",
   "execution_count": 2,
   "id": "ddaa530d",
   "metadata": {},
   "outputs": [
    {
     "data": {
      "text/plain": [
       "614"
      ]
     },
     "execution_count": 2,
     "metadata": {},
     "output_type": "execute_result"
    }
   ],
   "source": [
    "# List for holding lat_lngs and cities\n",
    "lat_lngs = []\n",
    "cities = []\n",
    "\n",
    "# Create a set of random lat and lng combinations\n",
    "lats = np.random.uniform(lat_range[0], lat_range[1], size=1500)\n",
    "lngs = np.random.uniform(lng_range[0], lng_range[1], size=1500)\n",
    "lat_lngs = zip(lats, lngs)\n",
    "\n",
    "# Identify nearest city for each lat, lng combination\n",
    "for lat_lng in lat_lngs:\n",
    "    city = citipy.nearest_city(lat_lng[0], lat_lng[1]).city_name\n",
    "    \n",
    "    # If the city is unique, then add it to a our cities list\n",
    "    if city not in cities:\n",
    "        cities.append(city)\n",
    "\n",
    "# Print the city count to confirm sufficient count\n",
    "len(cities)"
   ]
  },
  {
   "cell_type": "code",
   "execution_count": null,
   "id": "0ac1978d",
   "metadata": {},
   "outputs": [],
   "source": [
    "wKey = weather_api_key\n",
    "unit = \"imperial\"\n",
    "\n",
    "city = pd.DataFrame(cities)\n",
    "city[\"City\"] = cities\n",
    "city[\"Lat\"]=\"\"\n",
    "city[\"Lng\"]=\"\"\n",
    "city[\"Max Temp\"]=\"\"\n",
    "city[\"Humidity\"]=\"\"\n",
    "city[\"Cloudiness\"]=\"\"\n",
    "city[\"Wind Speed\"]=\"\"\n",
    "city[\"Country\"]=\"\"\n",
    "city[\"Date\"]=\"\"\n",
    "city_df = city[[\"City\", \"Lat\",\"Lng\",\"Max Temp\", \"Humidity\", \"Cloudiness\",\"Wind Speed\", \"Country\",\"Date\"]]\n",
    "# city_df"
   ]
  },
  {
   "cell_type": "code",
   "execution_count": 24,
   "id": "01ab1174",
   "metadata": {},
   "outputs": [
    {
     "name": "stdout",
     "output_type": "stream",
     "text": [
      "Beginning Data Retrieval\n",
      "----------------------------\n",
      "Processing Record 0 | vaini\n",
      "Processing Record 1 | ahuimanu\n",
      "Processing Record 2 | amderma\n",
      "City not found. Skipping...\n",
      "Processing Record 3 | anadyr\n",
      "Processing Record 4 | taolanaro\n",
      "City not found. Skipping...\n",
      "Processing Record 5 | arraial do cabo\n",
      "Processing Record 6 | aguadulce\n",
      "Processing Record 7 | souillac\n",
      "Processing Record 8 | birnin kebbi\n",
      "Processing Record 9 | bathsheba\n",
      "Processing Record 10 | roald\n",
      "Processing Record 11 | new norfolk\n",
      "Processing Record 12 | mataura\n",
      "Processing Record 13 | busselton\n",
      "Processing Record 14 | punta arenas\n",
      "Processing Record 15 | atuona\n",
      "Processing Record 16 | fortuna\n",
      "Processing Record 17 | mar del plata\n",
      "Processing Record 18 | palabuhanratu\n",
      "City not found. Skipping...\n",
      "Processing Record 19 | barrow\n",
      "Processing Record 20 | praia da vitoria\n",
      "Processing Record 21 | tuktoyaktuk\n",
      "Processing Record 22 | aflu\n",
      "City not found. Skipping...\n",
      "Processing Record 23 | atambua\n",
      "Processing Record 24 | saint-philippe\n",
      "Processing Record 25 | port elizabeth\n",
      "Processing Record 26 | oranjemund\n",
      "Processing Record 27 | aksha\n",
      "Processing Record 28 | florianopolis\n",
      "Processing Record 29 | vao\n",
      "Processing Record 30 | algiers\n",
      "Processing Record 31 | bolungarvik\n",
      "City not found. Skipping...\n",
      "Processing Record 32 | karauzyak\n",
      "City not found. Skipping...\n",
      "Processing Record 33 | mnogovershinnyy\n",
      "Processing Record 34 | grindavik\n",
      "Processing Record 35 | hobart\n",
      "Processing Record 36 | hambantota\n",
      "Processing Record 37 | bonito\n",
      "Processing Record 38 | ushuaia\n",
      "Processing Record 39 | nikolskoye\n",
      "Processing Record 40 | cochrane\n",
      "Processing Record 41 | albany\n",
      "Processing Record 42 | georgetown\n",
      "Processing Record 43 | hulja\n",
      "Processing Record 44 | dikson\n",
      "Processing Record 45 | khatanga\n",
      "Processing Record 46 | belushya guba\n",
      "City not found. Skipping...\n",
      "Processing Record 47 | kapaa\n",
      "Processing Record 48 | mahebourg\n",
      "Processing Record 49 | lagoa\n",
      "Processing Record 50 | bluff\n",
      "Processing Record 51 | marzuq\n",
      "Processing Record 52 | bayji\n",
      "Processing Record 53 | gympie\n",
      "Processing Record 54 | jamestown\n",
      "Processing Record 55 | cape town\n",
      "Processing Record 56 | palmer\n",
      "Processing Record 57 | saint george\n",
      "Processing Record 58 | ketchikan\n",
      "Processing Record 59 | japura\n",
      "Processing Record 60 | tiksi\n",
      "Processing Record 61 | hami\n",
      "Processing Record 62 | jiuquan\n",
      "Processing Record 63 | fairbanks\n",
      "Processing Record 64 | san quintin\n",
      "Processing Record 65 | praia\n",
      "Processing Record 66 | gravdal\n",
      "Processing Record 67 | sorland\n",
      "Processing Record 68 | port alfred\n",
      "Processing Record 69 | ribeira grande\n",
      "Processing Record 70 | ambilobe\n",
      "Processing Record 71 | sturgeon falls\n",
      "Processing Record 72 | hasaki\n",
      "Processing Record 73 | tuntum\n",
      "Processing Record 74 | namibe\n",
      "Processing Record 75 | aripuana\n",
      "Processing Record 76 | severo-kurilsk\n",
      "Processing Record 77 | cap malheureux\n",
      "Processing Record 78 | tasiilaq\n",
      "Processing Record 79 | bengkulu\n",
      "Processing Record 80 | pevek\n",
      "Processing Record 81 | college\n",
      "Processing Record 82 | guerrero negro\n",
      "Processing Record 83 | baykit\n",
      "Processing Record 84 | kabelvag\n",
      "Processing Record 85 | domoni\n",
      "Processing Record 86 | narsaq\n",
      "Processing Record 87 | nyurba\n",
      "Processing Record 88 | rikitea\n",
      "Processing Record 89 | avarua\n",
      "Processing Record 90 | vardo\n",
      "Processing Record 91 | zhanakorgan\n",
      "Processing Record 92 | butaritari\n",
      "Processing Record 93 | hithadhoo\n",
      "Processing Record 94 | qaanaaq\n",
      "Processing Record 95 | porosozero\n",
      "Processing Record 96 | abu kamal\n",
      "Processing Record 97 | luanda\n",
      "Processing Record 98 | acapulco\n",
      "Processing Record 99 | yellowknife\n",
      "Processing Record 100 | wamba\n",
      "Processing Record 101 | amahai\n",
      "Processing Record 102 | klaksvik\n",
      "Processing Record 103 | vaitupu\n",
      "City not found. Skipping...\n",
      "Processing Record 104 | sobolevo\n",
      "Processing Record 105 | razdolnoye\n",
      "Processing Record 106 | ostrovnoy\n",
      "Processing Record 107 | husavik\n",
      "Processing Record 108 | lorengau\n",
      "Processing Record 109 | mys shmidta\n",
      "City not found. Skipping...\n",
      "Processing Record 110 | bocaranga\n",
      "City not found. Skipping...\n",
      "Processing Record 111 | okha\n",
      "Processing Record 112 | lengshuitan\n",
      "Processing Record 113 | torbay\n",
      "Processing Record 114 | la seyne-sur-mer\n",
      "Processing Record 115 | hermanus\n",
      "Processing Record 116 | castro\n",
      "Processing Record 117 | puerto ayora\n",
      "Processing Record 118 | kirakira\n",
      "Processing Record 119 | ovalle\n",
      "Processing Record 120 | san patricio\n",
      "Processing Record 121 | kaitangata\n",
      "Processing Record 122 | imbituba\n",
      "Processing Record 123 | antofagasta\n",
      "Processing Record 124 | ballarpur\n",
      "Processing Record 125 | rzhev\n",
      "Processing Record 126 | savannah bight\n",
      "Processing Record 127 | kenai\n",
      "Processing Record 128 | luderitz\n",
      "Processing Record 129 | inhambane\n",
      "Processing Record 130 | labrea\n",
      "Processing Record 131 | thompson\n",
      "Processing Record 132 | ponta do sol\n",
      "Processing Record 133 | saskylakh\n",
      "Processing Record 134 | abu dhabi\n",
      "Processing Record 135 | kamina\n",
      "Processing Record 136 | mehamn\n",
      "Processing Record 137 | norman wells\n",
      "Processing Record 138 | egvekinot\n",
      "Processing Record 139 | meulaboh\n",
      "Processing Record 140 | hilo\n",
      "Processing Record 141 | cherskiy\n",
      "Processing Record 142 | hobyo\n",
      "Processing Record 143 | codrington\n",
      "Processing Record 144 | cap-aux-meules\n",
      "Processing Record 145 | burns lake\n",
      "Processing Record 146 | tura\n",
      "Processing Record 147 | methoni\n",
      "Processing Record 148 | pangkalanbuun\n",
      "Processing Record 149 | faanui\n",
      "Processing Record 150 | kavieng\n",
      "Processing Record 151 | xian\n",
      "Processing Record 152 | gashua\n",
      "Processing Record 153 | carnarvon\n",
      "Processing Record 154 | kenora\n",
      "Processing Record 155 | los llanos de aridane\n",
      "Processing Record 156 | mountain home\n",
      "Processing Record 157 | kamaishi\n",
      "Processing Record 158 | ballina\n",
      "Processing Record 159 | yulara\n",
      "Processing Record 160 | victoria\n",
      "Processing Record 161 | henderson\n",
      "Processing Record 162 | lichinga\n",
      "Processing Record 163 | baglung\n",
      "Processing Record 164 | longyearbyen\n",
      "Processing Record 165 | beitbridge\n",
      "Processing Record 166 | biak\n",
      "Processing Record 167 | opuwo\n",
      "Processing Record 168 | chara\n",
      "Processing Record 169 | airai\n",
      "Processing Record 170 | cidreira\n",
      "Processing Record 171 | naberera\n",
      "Processing Record 172 | auki\n",
      "Processing Record 173 | asyut\n",
      "Processing Record 174 | lokosovo\n",
      "Processing Record 175 | magole\n",
      "Processing Record 176 | berdigestyakh\n",
      "Processing Record 177 | komsomolskiy\n",
      "Processing Record 178 | north ogden\n",
      "Processing Record 179 | attawapiskat\n",
      "City not found. Skipping...\n",
      "Processing Record 180 | iwanai\n",
      "Processing Record 181 | tambura\n",
      "Processing Record 182 | kabo\n",
      "Processing Record 183 | lisakovsk\n",
      "Processing Record 184 | jalu\n",
      "Processing Record 185 | sao felix do xingu\n",
      "Processing Record 186 | matagami\n",
      "Processing Record 187 | maceio\n",
      "Processing Record 188 | nishihara\n",
      "Processing Record 189 | nanortalik\n",
      "Processing Record 190 | binga\n",
      "Processing Record 191 | tamano\n",
      "Processing Record 192 | east london\n",
      "Processing Record 193 | barcelona\n",
      "Processing Record 194 | naranjal\n",
      "Processing Record 195 | annau\n",
      "Processing Record 196 | trairi\n",
      "Processing Record 197 | laguna\n",
      "Processing Record 198 | illoqqortoormiut\n",
      "City not found. Skipping...\n",
      "Processing Record 199 | ancud\n",
      "Processing Record 200 | chokurdakh\n",
      "Processing Record 201 | itarema\n",
      "Processing Record 202 | bainbridge\n",
      "Processing Record 203 | rundu\n",
      "Processing Record 204 | marsh harbour\n",
      "Processing Record 205 | inongo\n",
      "Processing Record 206 | port hedland\n",
      "Processing Record 207 | camacha\n",
      "Processing Record 208 | paralimni\n",
      "Processing Record 209 | mazsalaca\n",
      "Processing Record 210 | malindi\n",
      "Processing Record 211 | voh\n",
      "Processing Record 212 | pangnirtung\n",
      "Processing Record 213 | tumannyy\n",
      "City not found. Skipping...\n",
      "Processing Record 214 | beringovskiy\n",
      "Processing Record 215 | linxia\n",
      "Processing Record 216 | yamada\n",
      "Processing Record 217 | muscat\n",
      "Processing Record 218 | rawson\n",
      "Processing Record 219 | broken hill\n",
      "Processing Record 220 | petropavlovsk-kamchatskiy\n",
      "Processing Record 221 | te anau\n",
      "Processing Record 222 | griffith\n",
      "Processing Record 223 | pisco\n",
      "Processing Record 224 | talnakh\n",
      "Processing Record 225 | sioux lookout\n",
      "Processing Record 226 | barentsburg\n",
      "City not found. Skipping...\n",
      "Processing Record 227 | alvinopolis\n",
      "Processing Record 228 | teahupoo\n",
      "Processing Record 229 | lolua\n",
      "City not found. Skipping...\n",
      "Processing Record 230 | srednekolymsk\n",
      "Processing Record 231 | hofn\n",
      "Processing Record 232 | kozluk\n",
      "Processing Record 233 | blackwater\n",
      "Processing Record 234 | linchuan\n",
      "City not found. Skipping...\n"
     ]
    },
    {
     "name": "stdout",
     "output_type": "stream",
     "text": [
      "Processing Record 235 | parabel\n",
      "Processing Record 236 | nelson bay\n",
      "Processing Record 237 | warmbad\n",
      "Processing Record 238 | ulaangom\n",
      "Processing Record 239 | waingapu\n",
      "Processing Record 240 | sile\n",
      "Processing Record 241 | luka nad jihlavou\n",
      "Processing Record 242 | ucluelet\n",
      "Processing Record 243 | hinche\n",
      "Processing Record 244 | upernavik\n",
      "Processing Record 245 | mount gambier\n",
      "Processing Record 246 | carutapera\n",
      "Processing Record 247 | nuuk\n",
      "Processing Record 248 | dawson creek\n",
      "Processing Record 249 | pekan\n",
      "Processing Record 250 | touros\n",
      "Processing Record 251 | olinda\n",
      "Processing Record 252 | la orilla\n",
      "Processing Record 253 | tobe\n",
      "Processing Record 254 | samalaeulu\n",
      "City not found. Skipping...\n",
      "Processing Record 255 | sovetskiy\n",
      "Processing Record 256 | alenquer\n",
      "Processing Record 257 | sayyan\n",
      "Processing Record 258 | manadhoo\n",
      "Processing Record 259 | abha\n",
      "Processing Record 260 | hamilton\n",
      "Processing Record 261 | kutum\n",
      "Processing Record 262 | esperance\n",
      "Processing Record 263 | leningradskiy\n",
      "Processing Record 264 | svetlaya\n",
      "Processing Record 265 | luwuk\n",
      "Processing Record 266 | oktyabrskiy\n",
      "Processing Record 267 | zlobin\n",
      "Processing Record 268 | pemangkat\n",
      "Processing Record 269 | la primavera\n",
      "Processing Record 270 | alofi\n",
      "Processing Record 271 | healdsburg\n",
      "Processing Record 272 | kasongo-lunda\n",
      "Processing Record 273 | mandera\n",
      "Processing Record 274 | santiago del estero\n",
      "Processing Record 275 | yabrud\n",
      "Processing Record 276 | jinchang\n",
      "Processing Record 277 | mongomo\n",
      "Processing Record 278 | port lincoln\n",
      "Processing Record 279 | grand centre\n",
      "City not found. Skipping...\n",
      "Processing Record 280 | orsha\n",
      "Processing Record 281 | bolshoy uluy\n",
      "City not found. Skipping...\n",
      "Processing Record 282 | ulaanbaatar\n",
      "Processing Record 283 | vanimo\n",
      "Processing Record 284 | riyadh\n",
      "Processing Record 285 | ostersund\n",
      "Processing Record 286 | dingle\n",
      "Processing Record 287 | sitka\n",
      "Processing Record 288 | coahuayana\n",
      "Processing Record 289 | ilulissat\n",
      "Processing Record 290 | kazalinsk\n",
      "City not found. Skipping...\n",
      "Processing Record 291 | north bend\n",
      "Processing Record 292 | korla\n",
      "Processing Record 293 | verkhoyansk\n",
      "Processing Record 294 | isangel\n",
      "Processing Record 295 | filadelfia\n",
      "Processing Record 296 | sokoni\n",
      "Processing Record 297 | giresun\n",
      "Processing Record 298 | katsuura\n",
      "Processing Record 299 | akyab\n",
      "Processing Record 300 | vizinga\n",
      "Processing Record 301 | provideniya\n",
      "Processing Record 302 | juifang\n",
      "City not found. Skipping...\n",
      "Processing Record 303 | sandur\n",
      "Processing Record 304 | dongsheng\n",
      "Processing Record 305 | yerbogachen\n",
      "Processing Record 306 | mbumi\n",
      "Processing Record 307 | araouane\n",
      "Processing Record 308 | keti bandar\n",
      "Processing Record 309 | wanning\n",
      "Processing Record 310 | zahirabad\n",
      "Processing Record 311 | mindelo\n",
      "Processing Record 312 | saleaula\n",
      "City not found. Skipping...\n",
      "Processing Record 313 | zlitan\n",
      "Processing Record 314 | kruisfontein\n",
      "Processing Record 315 | bredasdorp\n",
      "Processing Record 316 | darhan\n",
      "Processing Record 317 | coihaique\n",
      "Processing Record 318 | porto belo\n",
      "Processing Record 319 | harper\n",
      "Processing Record 320 | nizhneyansk\n",
      "City not found. Skipping...\n",
      "Processing Record 321 | balaguer\n",
      "Processing Record 322 | kijang\n",
      "Processing Record 323 | prainha\n",
      "Processing Record 324 | ayagoz\n",
      "Processing Record 325 | oussouye\n",
      "Processing Record 326 | manavalakurichi\n",
      "Processing Record 327 | tautira\n",
      "Processing Record 328 | adrar\n",
      "Processing Record 329 | tiznit\n",
      "Processing Record 330 | halifax\n",
      "Processing Record 331 | blonduos\n",
      "City not found. Skipping...\n",
      "Processing Record 332 | okhotsk\n",
      "Processing Record 333 | ishigaki\n",
      "Processing Record 334 | port moresby\n",
      "Processing Record 335 | galion\n",
      "Processing Record 336 | lata\n",
      "Processing Record 337 | nguiu\n",
      "City not found. Skipping...\n",
      "Processing Record 338 | chapais\n",
      "Processing Record 339 | cayenne\n",
      "Processing Record 340 | cabo san lucas\n",
      "Processing Record 341 | saldanha\n",
      "Processing Record 342 | sur\n",
      "Processing Record 343 | makakilo city\n",
      "Processing Record 344 | dali\n",
      "Processing Record 345 | cape coast\n",
      "Processing Record 346 | hvammstangi\n",
      "City not found. Skipping...\n",
      "Processing Record 347 | shenjiamen\n",
      "Processing Record 348 | brawley\n",
      "Processing Record 349 | oranjestad\n",
      "Processing Record 350 | wilmington\n",
      "Processing Record 351 | eureka\n",
      "Processing Record 352 | geraldton\n",
      "Processing Record 353 | sept-iles\n",
      "Processing Record 354 | nara\n",
      "Processing Record 355 | marcona\n",
      "City not found. Skipping...\n",
      "Processing Record 356 | malwan\n",
      "City not found. Skipping...\n",
      "Processing Record 357 | quballat\n",
      "Processing Record 358 | whitehorse\n",
      "Processing Record 359 | san carlos de bariloche\n",
      "Processing Record 360 | homer\n",
      "Processing Record 361 | baracoa\n",
      "Processing Record 362 | saint-leu\n",
      "Processing Record 363 | manggar\n",
      "Processing Record 364 | sorvag\n",
      "City not found. Skipping...\n",
      "Processing Record 365 | inderborskiy\n",
      "City not found. Skipping...\n",
      "Processing Record 366 | cobija\n",
      "Processing Record 367 | samarai\n",
      "Processing Record 368 | chippewa falls\n",
      "Processing Record 369 | angra\n",
      "City not found. Skipping...\n",
      "Processing Record 370 | pafos\n",
      "Processing Record 371 | richards bay\n",
      "Processing Record 372 | massape\n",
      "Processing Record 373 | caravelas\n",
      "Processing Record 374 | svetlogorsk\n",
      "Processing Record 375 | havre-saint-pierre\n",
      "Processing Record 376 | vangaindrano\n",
      "Processing Record 377 | waipawa\n",
      "Processing Record 378 | vanavara\n",
      "Processing Record 379 | russell\n",
      "Processing Record 380 | mogadishu\n",
      "Processing Record 381 | luangwa\n",
      "Processing Record 382 | bac lieu\n",
      "Processing Record 383 | calamar\n",
      "Processing Record 384 | porto walter\n",
      "Processing Record 385 | eresos\n",
      "Processing Record 386 | volosovo\n",
      "Processing Record 387 | aklavik\n",
      "Processing Record 388 | ternate\n",
      "Processing Record 389 | bokspits\n",
      "City not found. Skipping...\n",
      "Processing Record 390 | yar-sale\n",
      "Processing Record 391 | linkoping\n",
      "Processing Record 392 | sao joao da barra\n",
      "Processing Record 393 | tuatapere\n",
      "Processing Record 394 | karratha\n",
      "Processing Record 395 | khorinsk\n",
      "Processing Record 396 | benghazi\n",
      "Processing Record 397 | ivdel\n",
      "Processing Record 398 | barranca\n",
      "Processing Record 399 | vysotsk\n",
      "Processing Record 400 | aguimes\n",
      "Processing Record 401 | yara\n",
      "Processing Record 402 | prince rupert\n",
      "Processing Record 403 | reshetylivka\n",
      "Processing Record 404 | santa fe\n",
      "Processing Record 405 | nikolayevsk-na-amure\n",
      "Processing Record 406 | samusu\n",
      "City not found. Skipping...\n",
      "Processing Record 407 | tigil\n",
      "Processing Record 408 | la rioja\n",
      "Processing Record 409 | ukiah\n",
      "Processing Record 410 | formoso do araguaia\n",
      "City not found. Skipping...\n",
      "Processing Record 411 | walvis bay\n",
      "Processing Record 412 | pushkino\n",
      "Processing Record 413 | kaduqli\n",
      "Processing Record 414 | indramayu\n",
      "Processing Record 415 | pochutla\n",
      "Processing Record 416 | bajo baudo\n",
      "City not found. Skipping...\n",
      "Processing Record 417 | muli\n",
      "Processing Record 418 | manaus\n",
      "Processing Record 419 | lebu\n",
      "Processing Record 420 | bonthe\n",
      "Processing Record 421 | methven\n",
      "Processing Record 422 | price\n",
      "Processing Record 423 | aljustrel\n",
      "Processing Record 424 | paciran\n",
      "Processing Record 425 | bambous virieux\n",
      "Processing Record 426 | paso de carrasco\n",
      "Processing Record 427 | rossosh\n",
      "Processing Record 428 | sinnamary\n",
      "Processing Record 429 | klyuchi\n",
      "Processing Record 430 | awjilah\n",
      "Processing Record 431 | gunjur\n",
      "Processing Record 432 | batagay-alyta\n",
      "Processing Record 433 | augusto correa\n",
      "Processing Record 434 | teknaf\n",
      "Processing Record 435 | paamiut\n",
      "Processing Record 436 | tsihombe\n",
      "City not found. Skipping...\n",
      "Processing Record 437 | umm lajj\n",
      "Processing Record 438 | daultala\n",
      "Processing Record 439 | omsukchan\n",
      "Processing Record 440 | chikoy\n",
      "City not found. Skipping...\n",
      "Processing Record 441 | mufumbwe\n",
      "Processing Record 442 | pahrump\n",
      "Processing Record 443 | bethel\n",
      "Processing Record 444 | arcachon\n",
      "Processing Record 445 | antalaha\n",
      "Processing Record 446 | ambatofinandrahana\n",
      "Processing Record 447 | ekhabi\n",
      "Processing Record 448 | san cristobal\n",
      "Processing Record 449 | lardos\n",
      "Processing Record 450 | sentyabrskiy\n",
      "City not found. Skipping...\n",
      "Processing Record 451 | kuna\n",
      "Processing Record 452 | sable-sur-sarthe\n",
      "Processing Record 453 | olafsvik\n",
      "Processing Record 454 | bilma\n",
      "Processing Record 455 | port hardy\n",
      "Processing Record 456 | joshimath\n",
      "Processing Record 457 | vila\n",
      "Processing Record 458 | polur\n",
      "Processing Record 459 | mocambique\n",
      "City not found. Skipping...\n",
      "Processing Record 460 | udine\n",
      "Processing Record 461 | shinshiro\n"
     ]
    },
    {
     "name": "stdout",
     "output_type": "stream",
     "text": [
      "Processing Record 462 | ola\n",
      "Processing Record 463 | poum\n",
      "Processing Record 464 | chake chake\n",
      "Processing Record 465 | nardaran\n",
      "Processing Record 466 | bilibino\n",
      "Processing Record 467 | moron\n",
      "Processing Record 468 | san miguel\n",
      "Processing Record 469 | grand river south east\n",
      "City not found. Skipping...\n",
      "Processing Record 470 | meadow lake\n",
      "Processing Record 471 | lander\n",
      "Processing Record 472 | tirumullaivasal\n",
      "Processing Record 473 | diego de almagro\n",
      "Processing Record 474 | fare\n",
      "Processing Record 475 | winneba\n",
      "Processing Record 476 | plyussa\n",
      "Processing Record 477 | aranos\n",
      "Processing Record 478 | strezhevoy\n",
      "Processing Record 479 | batemans bay\n",
      "Processing Record 480 | the valley\n",
      "Processing Record 481 | invermere\n",
      "Processing Record 482 | amol\n",
      "Processing Record 483 | lasa\n",
      "Processing Record 484 | vila franca do campo\n",
      "Processing Record 485 | el estor\n",
      "Processing Record 486 | betki\n",
      "City not found. Skipping...\n",
      "Processing Record 487 | cascais\n",
      "Processing Record 488 | bolkhov\n",
      "Processing Record 489 | bajina basta\n",
      "Processing Record 490 | eyl\n",
      "Processing Record 491 | kyshtovka\n",
      "Processing Record 492 | coquimbo\n",
      "Processing Record 493 | ampanihy\n",
      "Processing Record 494 | salalah\n",
      "Processing Record 495 | lanzhou\n",
      "Processing Record 496 | konibodom\n",
      "Processing Record 497 | lavrentiya\n",
      "Processing Record 498 | solnechnyy\n",
      "Processing Record 499 | taltal\n",
      "Processing Record 500 | payo\n",
      "Processing Record 501 | chuy\n",
      "Processing Record 502 | comodoro rivadavia\n",
      "Processing Record 503 | kato mitrousion\n",
      "City not found. Skipping...\n",
      "Processing Record 504 | sao miguel do araguaia\n",
      "Processing Record 505 | takoradi\n",
      "Processing Record 506 | mizdah\n",
      "Processing Record 507 | hualmay\n",
      "Processing Record 508 | arlit\n",
      "Processing Record 509 | nhulunbuy\n",
      "Processing Record 510 | clyde river\n",
      "Processing Record 511 | aykhal\n",
      "Processing Record 512 | tabiauea\n",
      "City not found. Skipping...\n",
      "Processing Record 513 | sabang\n",
      "Processing Record 514 | lompoc\n",
      "Processing Record 515 | avera\n",
      "Processing Record 516 | cotonou\n",
      "Processing Record 517 | aitape\n",
      "Processing Record 518 | mazagao\n",
      "Processing Record 519 | moose factory\n",
      "Processing Record 520 | jumla\n",
      "Processing Record 521 | santa rosa\n",
      "Processing Record 522 | guiratinga\n",
      "Processing Record 523 | constitucion\n",
      "Processing Record 524 | ponta delgada\n",
      "Processing Record 525 | myitkyina\n",
      "Processing Record 526 | rostaq\n",
      "City not found. Skipping...\n",
      "Processing Record 527 | rizhao\n",
      "Processing Record 528 | cururupu\n",
      "Processing Record 529 | bubaque\n",
      "Processing Record 530 | epe\n",
      "Processing Record 531 | ila\n",
      "Processing Record 532 | belaya gora\n",
      "Processing Record 533 | sola\n",
      "Processing Record 534 | tarudant\n",
      "City not found. Skipping...\n",
      "Processing Record 535 | kahului\n",
      "Processing Record 536 | boa vista\n",
      "Processing Record 537 | pingzhuang\n",
      "Processing Record 538 | palafrugell\n",
      "Processing Record 539 | kawana waters\n",
      "City not found. Skipping...\n",
      "Processing Record 540 | mitilini\n",
      "City not found. Skipping...\n",
      "Processing Record 541 | kloulklubed\n",
      "Processing Record 542 | varzea grande\n",
      "Processing Record 543 | taoudenni\n",
      "Processing Record 544 | chagda\n",
      "City not found. Skipping...\n",
      "Processing Record 545 | asosa\n",
      "Processing Record 546 | raton\n",
      "Processing Record 547 | umm kaddadah\n",
      "Processing Record 548 | saint-jean-de-maurienne\n",
      "Processing Record 549 | marawi\n",
      "Processing Record 550 | qaqortoq\n",
      "Processing Record 551 | vostok\n",
      "Processing Record 552 | mbandaka\n",
      "Processing Record 553 | kidal\n",
      "Processing Record 554 | muroto\n",
      "Processing Record 555 | abu samrah\n",
      "Processing Record 556 | karakendzha\n",
      "City not found. Skipping...\n",
      "Processing Record 557 | azimur\n",
      "City not found. Skipping...\n",
      "Processing Record 558 | martinsburg\n",
      "Processing Record 559 | labuan\n",
      "Processing Record 560 | karasjok\n",
      "Processing Record 561 | ardesen\n",
      "Processing Record 562 | nakamura\n",
      "Processing Record 563 | ust-kuyga\n",
      "Processing Record 564 | santa cruz\n",
      "Processing Record 565 | jacareacanga\n",
      "Processing Record 566 | alice springs\n",
      "Processing Record 567 | sorong\n",
      "Processing Record 568 | kodiak\n",
      "Processing Record 569 | naryan-mar\n",
      "Processing Record 570 | miyako\n",
      "Processing Record 571 | biograd na moru\n",
      "Processing Record 572 | sumbawa\n",
      "City not found. Skipping...\n",
      "Processing Record 573 | kapoeta\n",
      "Processing Record 574 | kobojango\n",
      "City not found. Skipping...\n",
      "Processing Record 575 | ulladulla\n",
      "Processing Record 576 | sechura\n",
      "Processing Record 577 | nantucket\n",
      "Processing Record 578 | surt\n",
      "Processing Record 579 | newport\n",
      "Processing Record 580 | chicama\n",
      "Processing Record 581 | nicoya\n",
      "Processing Record 582 | artyk\n",
      "City not found. Skipping...\n",
      "Processing Record 583 | brae\n",
      "Processing Record 584 | udachnyy\n",
      "Processing Record 585 | cuamba\n",
      "Processing Record 586 | kuala terengganu\n",
      "Processing Record 587 | aksay\n",
      "Processing Record 588 | abay\n",
      "Processing Record 589 | berlevag\n",
      "Processing Record 590 | lakes entrance\n",
      "Processing Record 591 | rio grande\n",
      "Processing Record 592 | fochville\n",
      "Processing Record 593 | balkhash\n",
      "Processing Record 594 | zhuanghe\n",
      "Processing Record 595 | grande-riviere\n",
      "City not found. Skipping...\n",
      "Processing Record 596 | kadykchan\n",
      "City not found. Skipping...\n",
      "Processing Record 597 | gilbert\n",
      "Processing Record 598 | hazorasp\n",
      "Processing Record 599 | umzimvubu\n",
      "City not found. Skipping...\n",
      "Processing Record 600 | hauterive\n",
      "Processing Record 601 | victor harbor\n",
      "Processing Record 602 | padang\n",
      "Processing Record 603 | vicuna\n",
      "Processing Record 604 | vila do maio\n",
      "Processing Record 605 | erzin\n",
      "Processing Record 606 | tandil\n",
      "Processing Record 607 | buala\n",
      "Processing Record 608 | nanhai\n",
      "Processing Record 609 | alekseyevsk\n",
      "Processing Record 610 | faya\n",
      "Processing Record 611 | meyungs\n",
      "City not found. Skipping...\n",
      "Processing Record 612 | ruatoria\n",
      "City not found. Skipping...\n",
      "Processing Record 613 | skjervoy\n",
      "-----------------------------\n",
      "Data Retrieval Complete\n",
      "-----------------------------\n"
     ]
    }
   ],
   "source": [
    "# API calls and DataFrame fill\n",
    "\n",
    "print(f\"Beginning Data Retrieval\")\n",
    "print(\"----------------------------\")\n",
    "\n",
    "for index, row in city_df.iterrows():\n",
    "    \n",
    "    \n",
    "    cityN = row[\"City\"]\n",
    "    city_name = row[\"City\"].replace(\" \",\"%20\")\n",
    "    base_url = f\"https://api.openweathermap.org/data/2.5/weather?q={city_name}&units={unit}&appid={wKey}\"\n",
    "#     print(base_url)\n",
    "    \n",
    "    time.sleep(1)\n",
    "    response = requests.get(base_url)\n",
    "    response_json = response.json()\n",
    "    \n",
    "    results = dict(response_json)\n",
    "          \n",
    "    try:\n",
    "        print(f\"Processing Record {index} | {cityN}\")\n",
    "        \n",
    "        city_df.loc[index, 'Lat'] = results['coord'][\"lat\"]\n",
    "        city_df.loc[index, 'Lng'] = results['coord'][\"lon\"]\n",
    "        city_df.loc[index, 'Max Temp'] = results['main'][\"temp_max\"]\n",
    "        city_df.loc[index, 'Humidity'] = results['main'][\"humidity\"]\n",
    "        city_df.loc[index, 'Cloudiness'] = results['clouds'][\"all\"]\n",
    "        city_df.loc[index, 'Wind Speed'] = results['wind'][\"speed\"]\n",
    "        city_df.loc[index, 'Country'] = results['sys'][\"country\"]\n",
    "        city_df.loc[index, 'Date'] = results['dt']\n",
    "\n",
    "    except (KeyError, IndexError):\n",
    "        print(\"City not found. Skipping...\")\n",
    "        \n",
    "print(\"-----------------------------\")\n",
    "print(f\"Data Retrieval Complete\")\n",
    "print(\"-----------------------------\")\n",
    "\n",
    "\n",
    "\n",
    "    "
   ]
  },
  {
   "cell_type": "code",
   "execution_count": 33,
   "id": "372d4116",
   "metadata": {},
   "outputs": [],
   "source": [
    "# Clear blank rows and export csv\n",
    "cleanCity_df = city_df[city_df[\"Lat\"].str.strip().astype(bool)].reset_index()\n",
    "cleanCity_df.to_csv(\"city_weather.csv\", index=False)"
   ]
  },
  {
   "cell_type": "code",
   "execution_count": 5,
   "id": "571faef3",
   "metadata": {},
   "outputs": [
    {
     "data": {
      "text/html": [
       "<div>\n",
       "<style scoped>\n",
       "    .dataframe tbody tr th:only-of-type {\n",
       "        vertical-align: middle;\n",
       "    }\n",
       "\n",
       "    .dataframe tbody tr th {\n",
       "        vertical-align: top;\n",
       "    }\n",
       "\n",
       "    .dataframe thead th {\n",
       "        text-align: right;\n",
       "    }\n",
       "</style>\n",
       "<table border=\"1\" class=\"dataframe\">\n",
       "  <thead>\n",
       "    <tr style=\"text-align: right;\">\n",
       "      <th></th>\n",
       "      <th>index</th>\n",
       "      <th>City</th>\n",
       "      <th>Lat</th>\n",
       "      <th>Lng</th>\n",
       "      <th>Max Temp</th>\n",
       "      <th>Humidity</th>\n",
       "      <th>Cloudiness</th>\n",
       "      <th>Wind Speed</th>\n",
       "      <th>Country</th>\n",
       "      <th>Date</th>\n",
       "    </tr>\n",
       "  </thead>\n",
       "  <tbody>\n",
       "    <tr>\n",
       "      <th>0</th>\n",
       "      <td>0</td>\n",
       "      <td>vaini</td>\n",
       "      <td>-21.20</td>\n",
       "      <td>-175.20</td>\n",
       "      <td>75.36</td>\n",
       "      <td>69</td>\n",
       "      <td>20</td>\n",
       "      <td>12.66</td>\n",
       "      <td>TO</td>\n",
       "      <td>1627954382</td>\n",
       "    </tr>\n",
       "    <tr>\n",
       "      <th>1</th>\n",
       "      <td>1</td>\n",
       "      <td>ahuimanu</td>\n",
       "      <td>21.44</td>\n",
       "      <td>-157.84</td>\n",
       "      <td>87.51</td>\n",
       "      <td>56</td>\n",
       "      <td>1</td>\n",
       "      <td>14.97</td>\n",
       "      <td>US</td>\n",
       "      <td>1627954518</td>\n",
       "    </tr>\n",
       "    <tr>\n",
       "      <th>2</th>\n",
       "      <td>3</td>\n",
       "      <td>anadyr</td>\n",
       "      <td>64.75</td>\n",
       "      <td>177.48</td>\n",
       "      <td>50.50</td>\n",
       "      <td>81</td>\n",
       "      <td>90</td>\n",
       "      <td>17.00</td>\n",
       "      <td>RU</td>\n",
       "      <td>1627954386</td>\n",
       "    </tr>\n",
       "    <tr>\n",
       "      <th>3</th>\n",
       "      <td>5</td>\n",
       "      <td>arraial do cabo</td>\n",
       "      <td>-22.97</td>\n",
       "      <td>-42.03</td>\n",
       "      <td>67.48</td>\n",
       "      <td>82</td>\n",
       "      <td>2</td>\n",
       "      <td>17.81</td>\n",
       "      <td>BR</td>\n",
       "      <td>1627954383</td>\n",
       "    </tr>\n",
       "    <tr>\n",
       "      <th>4</th>\n",
       "      <td>6</td>\n",
       "      <td>aguadulce</td>\n",
       "      <td>8.25</td>\n",
       "      <td>-80.55</td>\n",
       "      <td>78.13</td>\n",
       "      <td>86</td>\n",
       "      <td>100</td>\n",
       "      <td>4.85</td>\n",
       "      <td>PA</td>\n",
       "      <td>1627954525</td>\n",
       "    </tr>\n",
       "  </tbody>\n",
       "</table>\n",
       "</div>"
      ],
      "text/plain": [
       "   index             City     Lat      Lng  Max Temp  Humidity  Cloudiness  \\\n",
       "0      0            vaini  -21.20  -175.20     75.36        69          20   \n",
       "1      1         ahuimanu   21.44  -157.84     87.51        56           1   \n",
       "2      3           anadyr   64.75   177.48     50.50        81          90   \n",
       "3      5  arraial do cabo  -22.97   -42.03     67.48        82           2   \n",
       "4      6        aguadulce    8.25   -80.55     78.13        86         100   \n",
       "\n",
       "   Wind Speed Country        Date  \n",
       "0       12.66      TO  1627954382  \n",
       "1       14.97      US  1627954518  \n",
       "2       17.00      RU  1627954386  \n",
       "3       17.81      BR  1627954383  \n",
       "4        4.85      PA  1627954525  "
      ]
     },
     "execution_count": 5,
     "metadata": {},
     "output_type": "execute_result"
    }
   ],
   "source": [
    "# Import csv and format\n",
    "cleanCity_df= pd.read_csv(\"city_weather.csv\")\n",
    "cleanCityF_df = cleanCity_df.copy()\n",
    "cleanCityF_df[\"Lat\"] = cleanCityF_df[\"Lat\"].map(\"{:.2f}\".format)\n",
    "cleanCityF_df[\"Lng\"] = cleanCityF_df[\"Lng\"].map(\"{:.2f}\".format)\n",
    "cleanCityF_df.head()"
   ]
  },
  {
   "cell_type": "code",
   "execution_count": 6,
   "id": "d1be3d4c",
   "metadata": {},
   "outputs": [
    {
     "data": {
      "text/html": [
       "<div>\n",
       "<style scoped>\n",
       "    .dataframe tbody tr th:only-of-type {\n",
       "        vertical-align: middle;\n",
       "    }\n",
       "\n",
       "    .dataframe tbody tr th {\n",
       "        vertical-align: top;\n",
       "    }\n",
       "\n",
       "    .dataframe thead th {\n",
       "        text-align: right;\n",
       "    }\n",
       "</style>\n",
       "<table border=\"1\" class=\"dataframe\">\n",
       "  <thead>\n",
       "    <tr style=\"text-align: right;\">\n",
       "      <th></th>\n",
       "      <th>Lat</th>\n",
       "      <th>Lng</th>\n",
       "      <th>Max Temp</th>\n",
       "      <th>Humidity</th>\n",
       "      <th>Cloudiness</th>\n",
       "      <th>Wind Speed</th>\n",
       "      <th>Date</th>\n",
       "    </tr>\n",
       "  </thead>\n",
       "  <tbody>\n",
       "    <tr>\n",
       "      <th>count</th>\n",
       "      <td>556.000000</td>\n",
       "      <td>556.000000</td>\n",
       "      <td>556.000000</td>\n",
       "      <td>556.000000</td>\n",
       "      <td>556.000000</td>\n",
       "      <td>556.000000</td>\n",
       "      <td>5.560000e+02</td>\n",
       "    </tr>\n",
       "    <tr>\n",
       "      <th>mean</th>\n",
       "      <td>20.045854</td>\n",
       "      <td>17.983574</td>\n",
       "      <td>69.050863</td>\n",
       "      <td>69.683453</td>\n",
       "      <td>49.721223</td>\n",
       "      <td>7.529838</td>\n",
       "      <td>1.627955e+09</td>\n",
       "    </tr>\n",
       "    <tr>\n",
       "      <th>std</th>\n",
       "      <td>33.192669</td>\n",
       "      <td>90.493736</td>\n",
       "      <td>14.047969</td>\n",
       "      <td>21.047792</td>\n",
       "      <td>40.095242</td>\n",
       "      <td>5.209851</td>\n",
       "      <td>3.547996e+02</td>\n",
       "    </tr>\n",
       "    <tr>\n",
       "      <th>min</th>\n",
       "      <td>-54.800000</td>\n",
       "      <td>-179.166700</td>\n",
       "      <td>33.100000</td>\n",
       "      <td>9.000000</td>\n",
       "      <td>0.000000</td>\n",
       "      <td>0.000000</td>\n",
       "      <td>1.627954e+09</td>\n",
       "    </tr>\n",
       "    <tr>\n",
       "      <th>25%</th>\n",
       "      <td>-6.972175</td>\n",
       "      <td>-59.229075</td>\n",
       "      <td>57.970000</td>\n",
       "      <td>58.000000</td>\n",
       "      <td>5.000000</td>\n",
       "      <td>3.440000</td>\n",
       "      <td>1.627954e+09</td>\n",
       "    </tr>\n",
       "    <tr>\n",
       "      <th>50%</th>\n",
       "      <td>24.405750</td>\n",
       "      <td>23.185800</td>\n",
       "      <td>70.600000</td>\n",
       "      <td>75.000000</td>\n",
       "      <td>45.000000</td>\n",
       "      <td>6.430000</td>\n",
       "      <td>1.627955e+09</td>\n",
       "    </tr>\n",
       "    <tr>\n",
       "      <th>75%</th>\n",
       "      <td>47.290525</td>\n",
       "      <td>100.340125</td>\n",
       "      <td>80.240000</td>\n",
       "      <td>85.250000</td>\n",
       "      <td>93.250000</td>\n",
       "      <td>10.360000</td>\n",
       "      <td>1.627955e+09</td>\n",
       "    </tr>\n",
       "    <tr>\n",
       "      <th>max</th>\n",
       "      <td>78.218600</td>\n",
       "      <td>179.316700</td>\n",
       "      <td>115.480000</td>\n",
       "      <td>100.000000</td>\n",
       "      <td>100.000000</td>\n",
       "      <td>28.770000</td>\n",
       "      <td>1.627955e+09</td>\n",
       "    </tr>\n",
       "  </tbody>\n",
       "</table>\n",
       "</div>"
      ],
      "text/plain": [
       "              Lat         Lng    Max Temp    Humidity  Cloudiness  Wind Speed  \\\n",
       "count  556.000000  556.000000  556.000000  556.000000  556.000000  556.000000   \n",
       "mean    20.045854   17.983574   69.050863   69.683453   49.721223    7.529838   \n",
       "std     33.192669   90.493736   14.047969   21.047792   40.095242    5.209851   \n",
       "min    -54.800000 -179.166700   33.100000    9.000000    0.000000    0.000000   \n",
       "25%     -6.972175  -59.229075   57.970000   58.000000    5.000000    3.440000   \n",
       "50%     24.405750   23.185800   70.600000   75.000000   45.000000    6.430000   \n",
       "75%     47.290525  100.340125   80.240000   85.250000   93.250000   10.360000   \n",
       "max     78.218600  179.316700  115.480000  100.000000  100.000000   28.770000   \n",
       "\n",
       "               Date  \n",
       "count  5.560000e+02  \n",
       "mean   1.627955e+09  \n",
       "std    3.547996e+02  \n",
       "min    1.627954e+09  \n",
       "25%    1.627954e+09  \n",
       "50%    1.627955e+09  \n",
       "75%    1.627955e+09  \n",
       "max    1.627955e+09  "
      ]
     },
     "execution_count": 6,
     "metadata": {},
     "output_type": "execute_result"
    }
   ],
   "source": [
    "# Create stats table\n",
    "cityStats_df = cleanCity_df[[\"Lat\",\"Lng\",\"Max Temp\", \"Humidity\", \"Cloudiness\",\"Wind Speed\",\"Date\"]].astype(float).describe()\n",
    "cityStats_df"
   ]
  },
  {
   "cell_type": "code",
   "execution_count": 7,
   "id": "dc8ee372",
   "metadata": {},
   "outputs": [
    {
     "data": {
      "text/html": [
       "<div>\n",
       "<style scoped>\n",
       "    .dataframe tbody tr th:only-of-type {\n",
       "        vertical-align: middle;\n",
       "    }\n",
       "\n",
       "    .dataframe tbody tr th {\n",
       "        vertical-align: top;\n",
       "    }\n",
       "\n",
       "    .dataframe thead th {\n",
       "        text-align: right;\n",
       "    }\n",
       "</style>\n",
       "<table border=\"1\" class=\"dataframe\">\n",
       "  <thead>\n",
       "    <tr style=\"text-align: right;\">\n",
       "      <th></th>\n",
       "      <th>index</th>\n",
       "      <th>City</th>\n",
       "      <th>Lat</th>\n",
       "      <th>Lng</th>\n",
       "      <th>Max Temp</th>\n",
       "      <th>Humidity</th>\n",
       "      <th>Cloudiness</th>\n",
       "      <th>Wind Speed</th>\n",
       "      <th>Country</th>\n",
       "      <th>Date</th>\n",
       "    </tr>\n",
       "  </thead>\n",
       "  <tbody>\n",
       "    <tr>\n",
       "      <th>0</th>\n",
       "      <td>0</td>\n",
       "      <td>vaini</td>\n",
       "      <td>-21.2000</td>\n",
       "      <td>-175.2000</td>\n",
       "      <td>75.36</td>\n",
       "      <td>69</td>\n",
       "      <td>20</td>\n",
       "      <td>12.66</td>\n",
       "      <td>TO</td>\n",
       "      <td>1627954382</td>\n",
       "    </tr>\n",
       "    <tr>\n",
       "      <th>1</th>\n",
       "      <td>1</td>\n",
       "      <td>ahuimanu</td>\n",
       "      <td>21.4447</td>\n",
       "      <td>-157.8378</td>\n",
       "      <td>87.51</td>\n",
       "      <td>56</td>\n",
       "      <td>1</td>\n",
       "      <td>14.97</td>\n",
       "      <td>US</td>\n",
       "      <td>1627954518</td>\n",
       "    </tr>\n",
       "    <tr>\n",
       "      <th>2</th>\n",
       "      <td>3</td>\n",
       "      <td>anadyr</td>\n",
       "      <td>64.7500</td>\n",
       "      <td>177.4833</td>\n",
       "      <td>50.50</td>\n",
       "      <td>81</td>\n",
       "      <td>90</td>\n",
       "      <td>17.00</td>\n",
       "      <td>RU</td>\n",
       "      <td>1627954386</td>\n",
       "    </tr>\n",
       "    <tr>\n",
       "      <th>3</th>\n",
       "      <td>5</td>\n",
       "      <td>arraial do cabo</td>\n",
       "      <td>-22.9661</td>\n",
       "      <td>-42.0278</td>\n",
       "      <td>67.48</td>\n",
       "      <td>82</td>\n",
       "      <td>2</td>\n",
       "      <td>17.81</td>\n",
       "      <td>BR</td>\n",
       "      <td>1627954383</td>\n",
       "    </tr>\n",
       "    <tr>\n",
       "      <th>4</th>\n",
       "      <td>6</td>\n",
       "      <td>aguadulce</td>\n",
       "      <td>8.2500</td>\n",
       "      <td>-80.5500</td>\n",
       "      <td>78.13</td>\n",
       "      <td>86</td>\n",
       "      <td>100</td>\n",
       "      <td>4.85</td>\n",
       "      <td>PA</td>\n",
       "      <td>1627954525</td>\n",
       "    </tr>\n",
       "  </tbody>\n",
       "</table>\n",
       "</div>"
      ],
      "text/plain": [
       "   index             City      Lat       Lng  Max Temp  Humidity  Cloudiness  \\\n",
       "0      0            vaini -21.2000 -175.2000     75.36        69          20   \n",
       "1      1         ahuimanu  21.4447 -157.8378     87.51        56           1   \n",
       "2      3           anadyr  64.7500  177.4833     50.50        81          90   \n",
       "3      5  arraial do cabo -22.9661  -42.0278     67.48        82           2   \n",
       "4      6        aguadulce   8.2500  -80.5500     78.13        86         100   \n",
       "\n",
       "   Wind Speed Country        Date  \n",
       "0       12.66      TO  1627954382  \n",
       "1       14.97      US  1627954518  \n",
       "2       17.00      RU  1627954386  \n",
       "3       17.81      BR  1627954383  \n",
       "4        4.85      PA  1627954525  "
      ]
     },
     "execution_count": 7,
     "metadata": {},
     "output_type": "execute_result"
    }
   ],
   "source": [
    "# Cities with humidity less than 100\n",
    "cleanCityLH_df = cleanCity_df.loc[cleanCity_df[\"Humidity\"]<100,:] \n",
    "cleanCityLH_df.head()"
   ]
  },
  {
   "cell_type": "markdown",
   "id": "b3daf333",
   "metadata": {},
   "source": [
    "## Latitude vs. Temperature Plot"
   ]
  },
  {
   "cell_type": "code",
   "execution_count": 36,
   "id": "2474178e",
   "metadata": {},
   "outputs": [
    {
     "data": {
      "image/png": "[encoded data removed]",
      "text/plain": [
       "<Figure size 432x288 with 1 Axes>"
      ]
     },
     "metadata": {
      "needs_background": "light"
     },
     "output_type": "display_data"
    }
   ],
   "source": [
    "# Temp vs Lat Scatter\n",
    "cleanCityLH_df.plot.scatter(x=\"Lat\", y=\"Max Temp\", c=\"DarkBlue\")\n",
    "plt.title(\"City Layout vs Max Temperature\")\n",
    "plt.tight_layout()\n",
    "plt.show()"
   ]
  },
  {
   "cell_type": "markdown",
   "id": "40d6555e",
   "metadata": {},
   "source": [
    "This plot shows how the closer you get to the equator, the higher the max temperature tends to be or visa versa. "
   ]
  },
  {
   "cell_type": "markdown",
   "id": "fd687dfc",
   "metadata": {},
   "source": [
    "## Latitude vs. Humidity Plot"
   ]
  },
  {
   "cell_type": "code",
   "execution_count": 37,
   "id": "963cfaa6",
   "metadata": {},
   "outputs": [
    {
     "data": {
      "image/png": "[encoded data removed]",
      "text/plain": [
       "<Figure size 432x288 with 1 Axes>"
      ]
     },
     "metadata": {
      "needs_background": "light"
     },
     "output_type": "display_data"
    }
   ],
   "source": [
    "# Humidity vs Lat Scatter\n",
    "cleanCityLH_df.plot.scatter(x=\"Lat\", y=\"Humidity\", c=\"DarkBlue\")\n",
    "plt.title(\"City Layout vs Humidity\")\n",
    "plt.tight_layout()\n",
    "plt.show()"
   ]
  },
  {
   "cell_type": "markdown",
   "id": "10f18c87",
   "metadata": {},
   "source": [
    "This plot shows the relative humidity of cities in relation to the equator. Based on chart, humidity tends to be higher north of the equator."
   ]
  },
  {
   "cell_type": "markdown",
   "id": "69b423d4",
   "metadata": {},
   "source": [
    "## Latitude vs. Cloudiness Plot"
   ]
  },
  {
   "cell_type": "code",
   "execution_count": 38,
   "id": "a04b94a9",
   "metadata": {},
   "outputs": [
    {
     "data": {
      "image/png": "[encoded data removed]",
      "text/plain": [
       "<Figure size 432x288 with 1 Axes>"
      ]
     },
     "metadata": {
      "needs_background": "light"
     },
     "output_type": "display_data"
    }
   ],
   "source": [
    "# Cloudiness vs Lat Scatter\n",
    "cleanCityLH_df.plot.scatter(x=\"Lat\", y=\"Cloudiness\", c=\"DarkBlue\")\n",
    "plt.title(\"City Layout vs Cloudiness\")\n",
    "plt.tight_layout()\n",
    "plt.show()"
   ]
  },
  {
   "cell_type": "markdown",
   "id": "d651a5dd",
   "metadata": {},
   "source": [
    "This plot shows the cloudiness of cities in relation to the equator. With such a wide variance, the chart shows than many cities are either 100 percent cloudy or completely sunny with many inbetween regardless of hemisphere."
   ]
  },
  {
   "cell_type": "markdown",
   "id": "bf97caaf",
   "metadata": {},
   "source": [
    "## Latitude vs. Wind Speed Plot"
   ]
  },
  {
   "cell_type": "code",
   "execution_count": 35,
   "id": "0af109cf",
   "metadata": {},
   "outputs": [
    {
     "data": {
      "image/png": "[encoded data removed]",
      "text/plain": [
       "<Figure size 432x288 with 1 Axes>"
      ]
     },
     "metadata": {
      "needs_background": "light"
     },
     "output_type": "display_data"
    }
   ],
   "source": [
    "# Wind Speed vs Lat Scatter\n",
    "cleanCityLH_df.plot.scatter(x=\"Lat\", y=\"Wind Speed\", c=\"DarkBlue\")\n",
    "plt.title(\"City Layout vs Wind Speed\")\n",
    "plt.tight_layout()\n",
    "plt.show()"
   ]
  },
  {
   "cell_type": "markdown",
   "id": "59d0e50c",
   "metadata": {},
   "source": [
    "This chart shows the wind speeds in cities in relation to equator. This chart shows a majority of cities have wind speeds less thn 15mph regardless of hemisphere."
   ]
  },
  {
   "cell_type": "markdown",
   "id": "b5570d42",
   "metadata": {},
   "source": [
    "## Linear Regression Plots"
   ]
  },
  {
   "cell_type": "markdown",
   "id": "2e7e3082",
   "metadata": {},
   "source": [
    "####  Northern Hemisphere - Max Temp vs. Latitude Linear Regression"
   ]
  },
  {
   "cell_type": "code",
   "execution_count": 9,
   "id": "24163dfe",
   "metadata": {},
   "outputs": [
    {
     "name": "stdout",
     "output_type": "stream",
     "text": [
      "The r-value is: -0.6105588026746734\n"
     ]
    },
    {
     "data": {
      "image/png": "[encoded data removed]",
      "text/plain": [
       "<Figure size 432x288 with 1 Axes>"
      ]
     },
     "metadata": {
      "needs_background": "light"
     },
     "output_type": "display_data"
    }
   ],
   "source": [
    "# Setting hemispheres\n",
    "cleanCityNH_df = cleanCityLH_df.loc[cleanCityLH_df[\"Lat\"]>0,:] \n",
    "cleanCitySH_df = cleanCityLH_df.loc[cleanCityLH_df[\"Lat\"]<0,:] \n",
    "\n",
    "\n",
    "# Northern Hemisphere - Temp vs Lat\n",
    "\n",
    "x_values = cleanCityNH_df['Lat']\n",
    "y_values = cleanCityNH_df['Max Temp']\n",
    "(slope, intercept, rvalue, pvalue, stderr) = linregress(x_values, y_values)\n",
    "regress_values = x_values * slope + intercept\n",
    "line_eq = \"y = \" + str(round(slope,2)) + \"x + \" + str(round(intercept,2))\n",
    "print(f\"The r-value is: {rvalue}\")\n",
    "plt.scatter(x_values,y_values)\n",
    "plt.plot(x_values,regress_values,\"r-\")\n",
    "plt.annotate(line_eq,(4,45),fontsize=15,color=\"red\")\n",
    "plt.xlabel('Latitude')\n",
    "plt.ylabel('Max Temperature')\n",
    "plt.tight_layout()\n",
    "plt.show()"
   ]
  },
  {
   "cell_type": "markdown",
   "id": "d79a5b7d",
   "metadata": {},
   "source": [
    "This chart shows a large negative correlation between Latitude and Max Temperature for the northern hemisphere. This shows that the further north you travel from the equator, the lower the Max Temperature tends to be."
   ]
  },
  {
   "cell_type": "markdown",
   "id": "e6e26100",
   "metadata": {},
   "source": [
    "####  Southern Hemisphere - Max Temp vs. Latitude Linear Regression"
   ]
  },
  {
   "cell_type": "code",
   "execution_count": 10,
   "id": "597542fa",
   "metadata": {},
   "outputs": [
    {
     "name": "stdout",
     "output_type": "stream",
     "text": [
      "The r-value is: 0.7998426232472057\n"
     ]
    },
    {
     "data": {
      "image/png": "[encoded data removed]",
      "text/plain": [
       "<Figure size 432x288 with 1 Axes>"
      ]
     },
     "metadata": {
      "needs_background": "light"
     },
     "output_type": "display_data"
    }
   ],
   "source": [
    "# Southern Hemisphere - Temp vs Lat\n",
    "\n",
    "x_values = cleanCitySH_df['Lat']\n",
    "y_values = cleanCitySH_df['Max Temp']\n",
    "(slope, intercept, rvalue, pvalue, stderr) = linregress(x_values, y_values)\n",
    "regress_values = x_values * slope + intercept\n",
    "line_eq = \"y = \" + str(round(slope,2)) + \"x + \" + str(round(intercept,2))\n",
    "print(f\"The r-value is: {rvalue}\")\n",
    "plt.scatter(x_values,y_values)\n",
    "plt.plot(x_values,regress_values,\"r-\")\n",
    "plt.annotate(line_eq,(-55,75),fontsize=15,color=\"red\")\n",
    "plt.xlabel('Latitude')\n",
    "plt.ylabel('Max Temperature')\n",
    "plt.tight_layout()\n",
    "plt.show()"
   ]
  },
  {
   "cell_type": "markdown",
   "id": "42922c3f",
   "metadata": {},
   "source": [
    "This chart shows a large positive correlation for Latitude and Max Temperature in the southern hemisphere. This chart shows that the closer you travel to the equator, the higher the max temperature tends to be."
   ]
  },
  {
   "cell_type": "markdown",
   "id": "6004e910",
   "metadata": {},
   "source": [
    "####  Northern Hemisphere - Humidity (%) vs. Latitude Linear Regression\n"
   ]
  },
  {
   "cell_type": "code",
   "execution_count": 17,
   "id": "1514f60c",
   "metadata": {},
   "outputs": [
    {
     "name": "stdout",
     "output_type": "stream",
     "text": [
      "The r-value is: -0.04189664993165079\n"
     ]
    },
    {
     "data": {
      "image/png": "[encoded data removed]",
      "text/plain": [
       "<Figure size 432x288 with 1 Axes>"
      ]
     },
     "metadata": {
      "needs_background": "light"
     },
     "output_type": "display_data"
    }
   ],
   "source": [
    "# Northern Hemisphere - Humidity vs Lat\n",
    "\n",
    "x_values = cleanCityNH_df['Lat']\n",
    "y_values = cleanCityNH_df['Humidity']\n",
    "(slope, intercept, rvalue, pvalue, stderr) = linregress(x_values, y_values)\n",
    "regress_values = x_values * slope + intercept\n",
    "line_eq = \"y = \" + str(round(slope,2)) + \"x + \" + str(round(intercept,2))\n",
    "print(f\"The r-value is: {rvalue}\")\n",
    "plt.scatter(x_values,y_values)\n",
    "plt.plot(x_values,regress_values,\"r-\")\n",
    "plt.annotate(line_eq,(-1,47),fontsize=15,color=\"red\")\n",
    "plt.xlabel('Latitude')\n",
    "plt.ylabel('Humidity')\n",
    "plt.tight_layout()\n",
    "plt.show()"
   ]
  },
  {
   "cell_type": "markdown",
   "id": "177e4cc7",
   "metadata": {},
   "source": [
    "In this chart, we have a little to no correlation between Latitude and Humidity in the northern hemisphere. With many of the cities hovering over 75 percent humidity, this correlation shows that humidity minimally drops, if any, the further north you travel. "
   ]
  },
  {
   "cell_type": "markdown",
   "id": "51d08fd7",
   "metadata": {},
   "source": [
    "####  Southern Hemisphere - Humidity (%) vs. Latitude Linear Regression"
   ]
  },
  {
   "cell_type": "code",
   "execution_count": 18,
   "id": "266cc8b4",
   "metadata": {},
   "outputs": [
    {
     "name": "stdout",
     "output_type": "stream",
     "text": [
      "The r-value is: -0.010464229995279064\n"
     ]
    },
    {
     "data": {
      "image/png": "[encoded data removed]",
      "text/plain": [
       "<Figure size 432x288 with 1 Axes>"
      ]
     },
     "metadata": {
      "needs_background": "light"
     },
     "output_type": "display_data"
    }
   ],
   "source": [
    "# Southern Hemisphere - Humidity vs Lat\n",
    "\n",
    "x_values = cleanCitySH_df['Lat']\n",
    "y_values = cleanCitySH_df['Humidity']\n",
    "(slope, intercept, rvalue, pvalue, stderr) = linregress(x_values, y_values)\n",
    "regress_values = x_values * slope + intercept\n",
    "line_eq = \"y = \" + str(round(slope,2)) + \"x + \" + str(round(intercept,2))\n",
    "print(f\"The r-value is: {rvalue}\")\n",
    "plt.scatter(x_values,y_values)\n",
    "plt.plot(x_values,regress_values,\"r-\")\n",
    "plt.annotate(line_eq,(-55,46),fontsize=15,color=\"red\")\n",
    "plt.xlabel('Latitude')\n",
    "plt.ylabel('Humidity')\n",
    "plt.tight_layout()\n",
    "plt.show()"
   ]
  },
  {
   "cell_type": "markdown",
   "id": "86fd31ec",
   "metadata": {},
   "source": [
    "This chart shows little to no correlation between humidity and Latitude in the southern hemisphere. While the chart shows that there is a small cluster of cities that are higher in humidity close to the equator, there is little data to prove that cities further south can not have humidity over 70 percent."
   ]
  },
  {
   "cell_type": "markdown",
   "id": "d7d46ee8",
   "metadata": {},
   "source": [
    "####  Northern Hemisphere - Cloudiness (%) vs. Latitude Linear Regression"
   ]
  },
  {
   "cell_type": "code",
   "execution_count": 13,
   "id": "c6fd1a1c",
   "metadata": {},
   "outputs": [
    {
     "name": "stdout",
     "output_type": "stream",
     "text": [
      "The r-value is: 0.043927085893789734\n"
     ]
    },
    {
     "data": {
      "image/png": "[encoded data removed]",
      "text/plain": [
       "<Figure size 432x288 with 1 Axes>"
      ]
     },
     "metadata": {
      "needs_background": "light"
     },
     "output_type": "display_data"
    }
   ],
   "source": [
    "# Northern Hemisphere - Cloudiness vs Lat\n",
    "\n",
    "x_values = cleanCityNH_df['Lat']\n",
    "y_values = cleanCityNH_df['Cloudiness']\n",
    "(slope, intercept, rvalue, pvalue, stderr) = linregress(x_values, y_values)\n",
    "regress_values = x_values * slope + intercept\n",
    "line_eq = \"y = \" + str(round(slope,2)) + \"x + \" + str(round(intercept,2))\n",
    "print(f\"The r-value is: {rvalue}\")\n",
    "plt.scatter(x_values,y_values)\n",
    "plt.plot(x_values,regress_values,\"r-\")\n",
    "plt.annotate(line_eq,(10,45),fontsize=15,color=\"red\")\n",
    "plt.xlabel('Latitude')\n",
    "plt.ylabel('Cloudiness')\n",
    "plt.tight_layout()\n",
    "plt.show()"
   ]
  },
  {
   "cell_type": "markdown",
   "id": "7c4ce8cf",
   "metadata": {},
   "source": [
    "There is little to no correlation between Latitude and Cloudiness for the northern hemisphere. Regardless of distance to equator, cities can have 0 to 100 percent cloudiness."
   ]
  },
  {
   "cell_type": "markdown",
   "id": "9b2f692d",
   "metadata": {},
   "source": [
    "####  Southern Hemisphere - Cloudiness (%) vs. Latitude Linear Regression"
   ]
  },
  {
   "cell_type": "code",
   "execution_count": 19,
   "id": "03104efd",
   "metadata": {},
   "outputs": [
    {
     "name": "stdout",
     "output_type": "stream",
     "text": [
      "The r-value is: 0.13282045478119614\n"
     ]
    },
    {
     "data": {
      "image/png": "[encoded data removed]",
      "text/plain": [
       "<Figure size 432x288 with 1 Axes>"
      ]
     },
     "metadata": {
      "needs_background": "light"
     },
     "output_type": "display_data"
    }
   ],
   "source": [
    "# Southern Hemisphere - Cloudiness vs Lat\n",
    "\n",
    "x_values = cleanCitySH_df['Lat']\n",
    "y_values = cleanCitySH_df['Cloudiness']\n",
    "(slope, intercept, rvalue, pvalue, stderr) = linregress(x_values, y_values)\n",
    "regress_values = x_values * slope + intercept\n",
    "line_eq = \"y = \" + str(round(slope,2)) + \"x + \" + str(round(intercept,2))\n",
    "print(f\"The r-value is: {rvalue}\")\n",
    "plt.scatter(x_values,y_values)\n",
    "plt.plot(x_values,regress_values,\"r-\")\n",
    "plt.annotate(line_eq,(-50,45),fontsize=15,color=\"red\")\n",
    "plt.xlabel('Latitude')\n",
    "plt.ylabel('Cloudiness')\n",
    "plt.tight_layout()\n",
    "plt.show()"
   ]
  },
  {
   "cell_type": "markdown",
   "id": "63770386",
   "metadata": {},
   "source": [
    "This data shows there is a small positive correlation between Latitude and Cloudiness in the southern hemisphere. With this data, the cloudiness in cities showed a small trend of increased cloudiness approaching the equator from the south."
   ]
  },
  {
   "cell_type": "markdown",
   "id": "79cb92cf",
   "metadata": {},
   "source": [
    "####  Northern Hemisphere - Wind Speed (mph) vs. Latitude Linear Regression"
   ]
  },
  {
   "cell_type": "code",
   "execution_count": 22,
   "id": "4d92b2f4",
   "metadata": {},
   "outputs": [
    {
     "name": "stdout",
     "output_type": "stream",
     "text": [
      "The r-value is: -0.028087204315929447\n"
     ]
    },
    {
     "data": {
      "image/png": "[encoded data removed]",
      "text/plain": [
       "<Figure size 432x288 with 1 Axes>"
      ]
     },
     "metadata": {
      "needs_background": "light"
     },
     "output_type": "display_data"
    }
   ],
   "source": [
    "# Northern Hemisphere - Wind Speed vs Lat\n",
    "\n",
    "x_values = cleanCityNH_df['Lat']\n",
    "y_values = cleanCityNH_df['Wind Speed']\n",
    "(slope, intercept, rvalue, pvalue, stderr) = linregress(x_values, y_values)\n",
    "regress_values = x_values * slope + intercept\n",
    "line_eq = \"y = \" + str(round(slope,2)) + \"x + \" + str(round(intercept,2))\n",
    "print(f\"The r-value is: {rvalue}\")\n",
    "plt.scatter(x_values,y_values)\n",
    "plt.plot(x_values,regress_values,\"r-\")\n",
    "plt.annotate(line_eq,(30,18),fontsize=15,color=\"red\")\n",
    "plt.xlabel('Latitude')\n",
    "plt.ylabel('Wind Speed')\n",
    "plt.tight_layout()\n",
    "plt.show()"
   ]
  },
  {
   "cell_type": "markdown",
   "id": "420e5051",
   "metadata": {},
   "source": [
    "The data shows little to no correlation between Latitude and Wind Speed in the northern hemisphere. Many of the cities show similar wind speeds regardless of distance north from the equator."
   ]
  },
  {
   "cell_type": "markdown",
   "id": "47e6cc95",
   "metadata": {},
   "source": [
    "####  Southern Hemisphere - Wind Speed (mph) vs. Latitude Linear Regression"
   ]
  },
  {
   "cell_type": "code",
   "execution_count": 25,
   "id": "86c17448",
   "metadata": {},
   "outputs": [
    {
     "name": "stdout",
     "output_type": "stream",
     "text": [
      "The r-value is: -0.3238071159609719\n"
     ]
    },
    {
     "data": {
      "image/png": "[encoded data removed]",
      "text/plain": [
       "<Figure size 432x288 with 1 Axes>"
      ]
     },
     "metadata": {
      "needs_background": "light"
     },
     "output_type": "display_data"
    }
   ],
   "source": [
    "# Southern Hemisphere - Wind Speed vs Lat\n",
    "\n",
    "x_values = cleanCitySH_df['Lat']\n",
    "y_values = cleanCitySH_df['Wind Speed']\n",
    "(slope, intercept, rvalue, pvalue, stderr) = linregress(x_values, y_values)\n",
    "regress_values = x_values * slope + intercept\n",
    "line_eq = \"y = \" + str(round(slope,2)) + \"x + \" + str(round(intercept,2))\n",
    "print(f\"The r-value is: {rvalue}\")\n",
    "plt.scatter(x_values,y_values)\n",
    "plt.plot(x_values,regress_values,\"r-\")\n",
    "plt.annotate(line_eq,(-50,25),fontsize=15,color=\"red\")\n",
    "plt.xlabel('Latitude')\n",
    "plt.ylabel('Wind Speed')\n",
    "plt.tight_layout()\n",
    "plt.show()"
   ]
  },
  {
   "cell_type": "markdown",
   "id": "461816b9",
   "metadata": {},
   "source": [
    "This data shows a medium negative correlation between Latitude and Wind Speeds in the southern hemisphere. There appears to be a slight pattern of decreased wind speeds as you move closer to the equator from the south."
   ]
  }
 ],
 "metadata": {
  "kernelspec": {
   "display_name": "Python 3",
   "language": "python",
   "name": "python3"
  },
  "language_info": {
   "codemirror_mode": {
    "name": "ipython",
    "version": 3
   },
   "file_extension": ".py",
   "mimetype": "text/x-python",
   "name": "python",
   "nbconvert_exporter": "python",
   "pygments_lexer": "ipython3",
   "version": "3.8.8"
  }
 },
 "nbformat": 4,
 "nbformat_minor": 5
}
